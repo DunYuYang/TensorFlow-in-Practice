{
 "cells": [
  {
   "cell_type": "code",
   "execution_count": 1,
   "metadata": {
    "colab": {},
    "colab_type": "code",
    "id": "D1J15Vh_1Jih"
   },
   "outputs": [
    {
     "name": "stdout",
     "output_type": "stream",
     "text": [
      "Requirement already satisfied: tf-nightly-2.0-preview in c:\\users\\user\\anaconda3\\lib\\site-packages (2.0.0.dev20191002)\n",
      "Requirement already satisfied: google-pasta>=0.1.6 in c:\\users\\user\\anaconda3\\lib\\site-packages (from tf-nightly-2.0-preview) (0.1.7)\n",
      "Collecting tb-nightly<2.2.0a0,>=2.1.0a0\n",
      "  Using cached https://files.pythonhosted.org/packages/48/6b/b9e735120c77721570aed36cec55390827db0d580b14a5ffd93a4cce5997/tb_nightly-2.1.0a20191206-py3-none-any.whl\n",
      "Requirement already satisfied: grpcio>=1.8.6 in c:\\users\\user\\anaconda3\\lib\\site-packages (from tf-nightly-2.0-preview) (1.16.1)\n",
      "Requirement already satisfied: protobuf>=3.6.1 in c:\\users\\user\\anaconda3\\lib\\site-packages (from tf-nightly-2.0-preview) (3.8.0)\n",
      "Requirement already satisfied: opt-einsum>=2.3.2 in c:\\users\\user\\anaconda3\\lib\\site-packages (from tf-nightly-2.0-preview) (3.1.0)\n",
      "Requirement already satisfied: termcolor>=1.1.0 in c:\\users\\user\\anaconda3\\lib\\site-packages (from tf-nightly-2.0-preview) (1.1.0)\n",
      "Requirement already satisfied: astor>=0.6.0 in c:\\users\\user\\anaconda3\\lib\\site-packages (from tf-nightly-2.0-preview) (0.8.0)\n",
      "Requirement already satisfied: gast==0.2.2 in c:\\users\\user\\anaconda3\\lib\\site-packages (from tf-nightly-2.0-preview) (0.2.2)\n",
      "Requirement already satisfied: keras-applications>=1.0.8 in c:\\users\\user\\anaconda3\\lib\\site-packages (from tf-nightly-2.0-preview) (1.0.8)\n",
      "Requirement already satisfied: numpy<2.0,>=1.16.0 in c:\\users\\user\\anaconda3\\lib\\site-packages (from tf-nightly-2.0-preview) (1.16.4)\n",
      "Requirement already satisfied: six>=1.10.0 in c:\\users\\user\\anaconda3\\lib\\site-packages (from tf-nightly-2.0-preview) (1.12.0)\n",
      "Requirement already satisfied: wrapt>=1.11.1 in c:\\users\\user\\anaconda3\\lib\\site-packages (from tf-nightly-2.0-preview) (1.11.2)\n",
      "Requirement already satisfied: tensorflow-estimator-2.0-preview in c:\\users\\user\\anaconda3\\lib\\site-packages (from tf-nightly-2.0-preview) (2.0.0)\n",
      "Requirement already satisfied: absl-py>=0.7.0 in c:\\users\\user\\anaconda3\\lib\\site-packages (from tf-nightly-2.0-preview) (0.7.1)\n",
      "Requirement already satisfied: wheel>=0.26; python_version >= \"3\" in c:\\users\\user\\anaconda3\\lib\\site-packages (from tf-nightly-2.0-preview) (0.33.4)\n",
      "Requirement already satisfied: keras-preprocessing>=1.0.5 in c:\\users\\user\\anaconda3\\lib\\site-packages (from tf-nightly-2.0-preview) (1.1.0)\n",
      "Requirement already satisfied: markdown>=2.6.8 in c:\\users\\user\\anaconda3\\lib\\site-packages (from tb-nightly<2.2.0a0,>=2.1.0a0->tf-nightly-2.0-preview) (3.1.1)\n",
      "Requirement already satisfied: google-auth-oauthlib<0.5,>=0.4.1 in c:\\users\\user\\anaconda3\\lib\\site-packages (from tb-nightly<2.2.0a0,>=2.1.0a0->tf-nightly-2.0-preview) (0.4.1)\n",
      "Requirement already satisfied: google-auth<2,>=1.6.3 in c:\\users\\user\\anaconda3\\lib\\site-packages (from tb-nightly<2.2.0a0,>=2.1.0a0->tf-nightly-2.0-preview) (1.6.3)\n",
      "Requirement already satisfied: werkzeug>=0.11.15 in c:\\users\\user\\anaconda3\\lib\\site-packages (from tb-nightly<2.2.0a0,>=2.1.0a0->tf-nightly-2.0-preview) (0.15.4)\n",
      "Requirement already satisfied: setuptools>=41.0.0 in c:\\users\\user\\anaconda3\\lib\\site-packages (from tb-nightly<2.2.0a0,>=2.1.0a0->tf-nightly-2.0-preview) (41.0.1)\n",
      "Requirement already satisfied: requests<3,>=2.21.0 in c:\\users\\user\\anaconda3\\lib\\site-packages (from tb-nightly<2.2.0a0,>=2.1.0a0->tf-nightly-2.0-preview) (2.22.0)\n",
      "Requirement already satisfied: h5py in c:\\users\\user\\anaconda3\\lib\\site-packages (from keras-applications>=1.0.8->tf-nightly-2.0-preview) (2.9.0)\n",
      "Requirement already satisfied: requests-oauthlib>=0.7.0 in c:\\users\\user\\anaconda3\\lib\\site-packages (from google-auth-oauthlib<0.5,>=0.4.1->tb-nightly<2.2.0a0,>=2.1.0a0->tf-nightly-2.0-preview) (1.2.0)\n",
      "Requirement already satisfied: cachetools>=2.0.0 in c:\\users\\user\\anaconda3\\lib\\site-packages (from google-auth<2,>=1.6.3->tb-nightly<2.2.0a0,>=2.1.0a0->tf-nightly-2.0-preview) (3.1.1)\n",
      "Requirement already satisfied: rsa>=3.1.4 in c:\\users\\user\\anaconda3\\lib\\site-packages (from google-auth<2,>=1.6.3->tb-nightly<2.2.0a0,>=2.1.0a0->tf-nightly-2.0-preview) (4.0)\n",
      "Requirement already satisfied: pyasn1-modules>=0.2.1 in c:\\users\\user\\anaconda3\\lib\\site-packages (from google-auth<2,>=1.6.3->tb-nightly<2.2.0a0,>=2.1.0a0->tf-nightly-2.0-preview) (0.2.7)\n",
      "Requirement already satisfied: idna<2.9,>=2.5 in c:\\users\\user\\anaconda3\\lib\\site-packages (from requests<3,>=2.21.0->tb-nightly<2.2.0a0,>=2.1.0a0->tf-nightly-2.0-preview) (2.8)\n",
      "Requirement already satisfied: chardet<3.1.0,>=3.0.2 in c:\\users\\user\\anaconda3\\lib\\site-packages (from requests<3,>=2.21.0->tb-nightly<2.2.0a0,>=2.1.0a0->tf-nightly-2.0-preview) (3.0.4)\n",
      "Requirement already satisfied: urllib3!=1.25.0,!=1.25.1,<1.26,>=1.21.1 in c:\\users\\user\\anaconda3\\lib\\site-packages (from requests<3,>=2.21.0->tb-nightly<2.2.0a0,>=2.1.0a0->tf-nightly-2.0-preview) (1.24.2)\n",
      "Requirement already satisfied: certifi>=2017.4.17 in c:\\users\\user\\anaconda3\\lib\\site-packages (from requests<3,>=2.21.0->tb-nightly<2.2.0a0,>=2.1.0a0->tf-nightly-2.0-preview) (2019.6.16)\n",
      "Requirement already satisfied: oauthlib>=3.0.0 in c:\\users\\user\\anaconda3\\lib\\site-packages (from requests-oauthlib>=0.7.0->google-auth-oauthlib<0.5,>=0.4.1->tb-nightly<2.2.0a0,>=2.1.0a0->tf-nightly-2.0-preview) (3.1.0)\n",
      "Requirement already satisfied: pyasn1>=0.1.3 in c:\\users\\user\\anaconda3\\lib\\site-packages (from rsa>=3.1.4->google-auth<2,>=1.6.3->tb-nightly<2.2.0a0,>=2.1.0a0->tf-nightly-2.0-preview) (0.4.7)\n",
      "Installing collected packages: tb-nightly\n",
      "  Found existing installation: tb-nightly 1.14.0a20190603\n",
      "    Uninstalling tb-nightly-1.14.0a20190603:\n",
      "      Successfully uninstalled tb-nightly-1.14.0a20190603\n",
      "Successfully installed tb-nightly-2.1.0a20191206\n"
     ]
    },
    {
     "name": "stderr",
     "output_type": "stream",
     "text": [
      "ERROR: tensorflow 2.0.0b1 has requirement tb-nightly<1.14.0a20190604,>=1.14.0a20190603, but you'll have tb-nightly 2.1.0a20191206 which is incompatible.\n",
      "ERROR: tensorflow-gpu 2.0.0b1 has requirement tb-nightly<1.14.0a20190604,>=1.14.0a20190603, but you'll have tb-nightly 2.1.0a20191206 which is incompatible.\n",
      "ERROR: tb-nightly 2.1.0a20191206 has requirement grpcio>=1.24.3, but you'll have grpcio 1.16.1 which is incompatible.\n"
     ]
    }
   ],
   "source": [
    "!pip install tf-nightly-2.0-preview\n",
    "\n"
   ]
  },
  {
   "cell_type": "code",
   "execution_count": 2,
   "metadata": {
    "colab": {
     "base_uri": "https://localhost:8080/",
     "height": 34
    },
    "colab_type": "code",
    "id": "BOjujz601HcS",
    "outputId": "696f1e32-8728-48b4-88bf-389a3dfbb914"
   },
   "outputs": [
    {
     "name": "stdout",
     "output_type": "stream",
     "text": [
      "2.0.0-beta1\n"
     ]
    }
   ],
   "source": [
    "import tensorflow as tf\n",
    "import numpy as np\n",
    "import matplotlib.pyplot as plt\n",
    "print(tf.__version__)"
   ]
  },
  {
   "cell_type": "code",
   "execution_count": 3,
   "metadata": {
    "colab": {
     "base_uri": "https://localhost:8080/",
     "height": 188
    },
    "colab_type": "code",
    "id": "asEdslR_05O_",
    "outputId": "d4de27e8-18c5-44fe-d096-30499650df0b"
   },
   "outputs": [
    {
     "name": "stdout",
     "output_type": "stream",
     "text": [
      "0\n",
      "1\n",
      "2\n",
      "3\n",
      "4\n",
      "5\n",
      "6\n",
      "7\n",
      "8\n",
      "9\n"
     ]
    }
   ],
   "source": [
    "dataset = tf.data.Dataset.range(10)\n",
    "for val in dataset:\n",
    "   print(val.numpy())"
   ]
  },
  {
   "cell_type": "code",
   "execution_count": 4,
   "metadata": {
    "colab": {
     "base_uri": "https://localhost:8080/",
     "height": 188
    },
    "colab_type": "code",
    "id": "Lrv_ghSt1lgQ",
    "outputId": "81190d2d-259e-452e-cf48-23915dc782fd"
   },
   "outputs": [
    {
     "name": "stdout",
     "output_type": "stream",
     "text": [
      "0 1 2 3 4 \n",
      "1 2 3 4 5 \n",
      "2 3 4 5 6 \n",
      "3 4 5 6 7 \n",
      "4 5 6 7 8 \n",
      "5 6 7 8 9 \n",
      "6 7 8 9 \n",
      "7 8 9 \n",
      "8 9 \n",
      "9 \n"
     ]
    }
   ],
   "source": [
    "dataset = tf.data.Dataset.range(10)\n",
    "dataset = dataset.window(5, shift=1)\n",
    "for window_dataset in dataset:\n",
    "  for val in window_dataset:\n",
    "    print(val.numpy(), end=\" \")\n",
    "  print()"
   ]
  },
  {
   "cell_type": "code",
   "execution_count": 5,
   "metadata": {
    "colab": {
     "base_uri": "https://localhost:8080/",
     "height": 120
    },
    "colab_type": "code",
    "id": "QLEq6MG-2DN2",
    "outputId": "ff6dc0fa-a880-4ed5-ea6b-bfdc11b727c7"
   },
   "outputs": [
    {
     "name": "stdout",
     "output_type": "stream",
     "text": [
      "0 1 2 3 4 \n",
      "1 2 3 4 5 \n",
      "2 3 4 5 6 \n",
      "3 4 5 6 7 \n",
      "4 5 6 7 8 \n",
      "5 6 7 8 9 \n"
     ]
    }
   ],
   "source": [
    "dataset = tf.data.Dataset.range(10)\n",
    "dataset = dataset.window(5, shift=1, drop_remainder=True)\n",
    "for window_dataset in dataset:\n",
    "  for val in window_dataset:\n",
    "    print(val.numpy(), end=\" \")\n",
    "  print()"
   ]
  },
  {
   "cell_type": "code",
   "execution_count": 6,
   "metadata": {
    "colab": {
     "base_uri": "https://localhost:8080/",
     "height": 120
    },
    "colab_type": "code",
    "id": "PJ9CAHlJ2ODe",
    "outputId": "ae088296-428d-4985-92da-74292670bc68"
   },
   "outputs": [
    {
     "name": "stdout",
     "output_type": "stream",
     "text": [
      "[0 1 2 3 4]\n",
      "[1 2 3 4 5]\n",
      "[2 3 4 5 6]\n",
      "[3 4 5 6 7]\n",
      "[4 5 6 7 8]\n",
      "[5 6 7 8 9]\n"
     ]
    }
   ],
   "source": [
    "dataset = tf.data.Dataset.range(10)\n",
    "dataset = dataset.window(5, shift=1, drop_remainder=True)\n",
    "dataset = dataset.flat_map(lambda window: window.batch(5))\n",
    "for window in dataset:\n",
    "  print(window.numpy())\n"
   ]
  },
  {
   "cell_type": "code",
   "execution_count": 7,
   "metadata": {
    "colab": {
     "base_uri": "https://localhost:8080/",
     "height": 120
    },
    "colab_type": "code",
    "id": "DryEZ2Mz2nNV",
    "outputId": "f25de11e-abce-4d18-cd41-7c45a6323875"
   },
   "outputs": [
    {
     "name": "stdout",
     "output_type": "stream",
     "text": [
      "[0 1 2 3] [4]\n",
      "[1 2 3 4] [5]\n",
      "[2 3 4 5] [6]\n",
      "[3 4 5 6] [7]\n",
      "[4 5 6 7] [8]\n",
      "[5 6 7 8] [9]\n"
     ]
    }
   ],
   "source": [
    "dataset = tf.data.Dataset.range(10)\n",
    "dataset = dataset.window(5, shift=1, drop_remainder=True)\n",
    "dataset = dataset.flat_map(lambda window: window.batch(5))\n",
    "dataset = dataset.map(lambda window: (window[:-1], window[-1:]))\n",
    "for x,y in dataset:\n",
    "  print(x.numpy(), y.numpy())"
   ]
  },
  {
   "cell_type": "code",
   "execution_count": 8,
   "metadata": {
    "colab": {
     "base_uri": "https://localhost:8080/",
     "height": 120
    },
    "colab_type": "code",
    "id": "1tl-0BOKkEtk",
    "outputId": "a96d8eec-4937-4c07-f8f1-9e137492eb8b"
   },
   "outputs": [
    {
     "name": "stdout",
     "output_type": "stream",
     "text": [
      "[2 3 4 5] [6]\n",
      "[4 5 6 7] [8]\n",
      "[5 6 7 8] [9]\n",
      "[1 2 3 4] [5]\n",
      "[0 1 2 3] [4]\n",
      "[3 4 5 6] [7]\n"
     ]
    }
   ],
   "source": [
    "dataset = tf.data.Dataset.range(10)\n",
    "dataset = dataset.window(5, shift=1, drop_remainder=True)\n",
    "dataset = dataset.flat_map(lambda window: window.batch(5))\n",
    "dataset = dataset.map(lambda window: (window[:-1], window[-1:]))\n",
    "dataset = dataset.shuffle(buffer_size=10)\n",
    "for x,y in dataset:\n",
    "  print(x.numpy(), y.numpy())\n"
   ]
  },
  {
   "cell_type": "code",
   "execution_count": 9,
   "metadata": {
    "colab": {
     "base_uri": "https://localhost:8080/",
     "height": 223
    },
    "colab_type": "code",
    "id": "Wa0PNwxMGapy",
    "outputId": "d12e37ee-fb71-4284-c615-b8c568e34630"
   },
   "outputs": [
    {
     "name": "stdout",
     "output_type": "stream",
     "text": [
      "x =  [[0 1 2 3]\n",
      " [2 3 4 5]]\n",
      "y =  [[4]\n",
      " [6]]\n",
      "x =  [[4 5 6 7]\n",
      " [5 6 7 8]]\n",
      "y =  [[8]\n",
      " [9]]\n",
      "x =  [[3 4 5 6]\n",
      " [1 2 3 4]]\n",
      "y =  [[7]\n",
      " [5]]\n"
     ]
    }
   ],
   "source": [
    "dataset = tf.data.Dataset.range(10)\n",
    "dataset = dataset.window(5, shift=1, drop_remainder=True)\n",
    "dataset = dataset.flat_map(lambda window: window.batch(5))\n",
    "dataset = dataset.map(lambda window: (window[:-1], window[-1:]))\n",
    "dataset = dataset.shuffle(buffer_size=10)\n",
    "dataset = dataset.batch(2).prefetch(1)\n",
    "for x,y in dataset:\n",
    "  print(\"x = \", x.numpy())\n",
    "  print(\"y = \", y.numpy())\n"
   ]
  },
  {
   "cell_type": "code",
   "execution_count": null,
   "metadata": {},
   "outputs": [],
   "source": []
  }
 ],
 "metadata": {
  "accelerator": "GPU",
  "colab": {
   "name": "S+P Week 2 Lesson 1.ipynb",
   "provenance": []
  },
  "kernelspec": {
   "display_name": "Python 3",
   "language": "python",
   "name": "python3"
  },
  "language_info": {
   "codemirror_mode": {
    "name": "ipython",
    "version": 3
   },
   "file_extension": ".py",
   "mimetype": "text/x-python",
   "name": "python",
   "nbconvert_exporter": "python",
   "pygments_lexer": "ipython3",
   "version": "3.7.3"
  }
 },
 "nbformat": 4,
 "nbformat_minor": 1
}
