{
 "cells": [
  {
   "cell_type": "code",
   "execution_count": 1,
   "metadata": {
    "colab": {},
    "colab_type": "code",
    "id": "D1J15Vh_1Jih"
   },
   "outputs": [
    {
     "name": "stdout",
     "output_type": "stream",
     "text": [
      "Collecting tf-nightly-2.0-preview\n",
      "  Downloading https://files.pythonhosted.org/packages/66/62/0fc16375f90a9655849d43ba2fd53d83307e049a5bf1a8d78262fd1c2f0f/tf_nightly_2.0_preview-2.0.0.dev20191002-cp37-cp37m-win_amd64.whl (51.4MB)\n",
      "Requirement already satisfied: google-pasta>=0.1.6 in c:\\users\\user\\anaconda3\\lib\\site-packages (from tf-nightly-2.0-preview) (0.1.7)\n",
      "Requirement already satisfied: grpcio>=1.8.6 in c:\\users\\user\\anaconda3\\lib\\site-packages (from tf-nightly-2.0-preview) (1.16.1)\n",
      "Requirement already satisfied: keras-applications>=1.0.8 in c:\\users\\user\\anaconda3\\lib\\site-packages (from tf-nightly-2.0-preview) (1.0.8)\n",
      "Requirement already satisfied: six>=1.10.0 in c:\\users\\user\\anaconda3\\lib\\site-packages (from tf-nightly-2.0-preview) (1.12.0)\n",
      "Requirement already satisfied: absl-py>=0.7.0 in c:\\users\\user\\anaconda3\\lib\\site-packages (from tf-nightly-2.0-preview) (0.7.1)\n",
      "Requirement already satisfied: numpy<2.0,>=1.16.0 in c:\\users\\user\\anaconda3\\lib\\site-packages (from tf-nightly-2.0-preview) (1.16.4)\n",
      "Requirement already satisfied: keras-preprocessing>=1.0.5 in c:\\users\\user\\anaconda3\\lib\\site-packages (from tf-nightly-2.0-preview) (1.1.0)\n",
      "Requirement already satisfied: termcolor>=1.1.0 in c:\\users\\user\\anaconda3\\lib\\site-packages (from tf-nightly-2.0-preview) (1.1.0)\n",
      "Collecting tensorflow-estimator-2.0-preview\n",
      "  Downloading https://files.pythonhosted.org/packages/db/f5/790508e193121ab301cb40cada7f451c531404051ac9249f21b1f5484450/tensorflow_estimator_2.0_preview-2.0.0-py2.py3-none-any.whl (449kB)\n",
      "Requirement already satisfied: wrapt>=1.11.1 in c:\\users\\user\\anaconda3\\lib\\site-packages (from tf-nightly-2.0-preview) (1.11.2)\n",
      "Requirement already satisfied: astor>=0.6.0 in c:\\users\\user\\anaconda3\\lib\\site-packages (from tf-nightly-2.0-preview) (0.8.0)\n",
      "Requirement already satisfied: wheel>=0.26; python_version >= \"3\" in c:\\users\\user\\anaconda3\\lib\\site-packages (from tf-nightly-2.0-preview) (0.33.4)\n",
      "Requirement already satisfied: gast==0.2.2 in c:\\users\\user\\anaconda3\\lib\\site-packages (from tf-nightly-2.0-preview) (0.2.2)\n",
      "Collecting tb-nightly<2.2.0a0,>=2.1.0a0\n",
      "  Downloading https://files.pythonhosted.org/packages/48/6b/b9e735120c77721570aed36cec55390827db0d580b14a5ffd93a4cce5997/tb_nightly-2.1.0a20191206-py3-none-any.whl (3.8MB)\n",
      "Requirement already satisfied: opt-einsum>=2.3.2 in c:\\users\\user\\anaconda3\\lib\\site-packages (from tf-nightly-2.0-preview) (3.1.0)\n",
      "Requirement already satisfied: protobuf>=3.6.1 in c:\\users\\user\\anaconda3\\lib\\site-packages (from tf-nightly-2.0-preview) (3.8.0)\n",
      "Requirement already satisfied: h5py in c:\\users\\user\\anaconda3\\lib\\site-packages (from keras-applications>=1.0.8->tf-nightly-2.0-preview) (2.9.0)\n",
      "Requirement already satisfied: google-auth<2,>=1.6.3 in c:\\users\\user\\anaconda3\\lib\\site-packages (from tb-nightly<2.2.0a0,>=2.1.0a0->tf-nightly-2.0-preview) (1.6.3)\n",
      "Requirement already satisfied: markdown>=2.6.8 in c:\\users\\user\\anaconda3\\lib\\site-packages (from tb-nightly<2.2.0a0,>=2.1.0a0->tf-nightly-2.0-preview) (3.1.1)\n",
      "Requirement already satisfied: google-auth-oauthlib<0.5,>=0.4.1 in c:\\users\\user\\anaconda3\\lib\\site-packages (from tb-nightly<2.2.0a0,>=2.1.0a0->tf-nightly-2.0-preview) (0.4.1)\n",
      "Requirement already satisfied: werkzeug>=0.11.15 in c:\\users\\user\\anaconda3\\lib\\site-packages (from tb-nightly<2.2.0a0,>=2.1.0a0->tf-nightly-2.0-preview) (0.15.4)\n",
      "Requirement already satisfied: setuptools>=41.0.0 in c:\\users\\user\\anaconda3\\lib\\site-packages (from tb-nightly<2.2.0a0,>=2.1.0a0->tf-nightly-2.0-preview) (41.0.1)\n",
      "Requirement already satisfied: requests<3,>=2.21.0 in c:\\users\\user\\anaconda3\\lib\\site-packages (from tb-nightly<2.2.0a0,>=2.1.0a0->tf-nightly-2.0-preview) (2.22.0)\n",
      "Requirement already satisfied: cachetools>=2.0.0 in c:\\users\\user\\anaconda3\\lib\\site-packages (from google-auth<2,>=1.6.3->tb-nightly<2.2.0a0,>=2.1.0a0->tf-nightly-2.0-preview) (3.1.1)\n",
      "Requirement already satisfied: pyasn1-modules>=0.2.1 in c:\\users\\user\\anaconda3\\lib\\site-packages (from google-auth<2,>=1.6.3->tb-nightly<2.2.0a0,>=2.1.0a0->tf-nightly-2.0-preview) (0.2.7)\n",
      "Requirement already satisfied: rsa>=3.1.4 in c:\\users\\user\\anaconda3\\lib\\site-packages (from google-auth<2,>=1.6.3->tb-nightly<2.2.0a0,>=2.1.0a0->tf-nightly-2.0-preview) (4.0)\n",
      "Requirement already satisfied: requests-oauthlib>=0.7.0 in c:\\users\\user\\anaconda3\\lib\\site-packages (from google-auth-oauthlib<0.5,>=0.4.1->tb-nightly<2.2.0a0,>=2.1.0a0->tf-nightly-2.0-preview) (1.2.0)\n",
      "Requirement already satisfied: certifi>=2017.4.17 in c:\\users\\user\\anaconda3\\lib\\site-packages (from requests<3,>=2.21.0->tb-nightly<2.2.0a0,>=2.1.0a0->tf-nightly-2.0-preview) (2019.6.16)\n",
      "Requirement already satisfied: idna<2.9,>=2.5 in c:\\users\\user\\anaconda3\\lib\\site-packages (from requests<3,>=2.21.0->tb-nightly<2.2.0a0,>=2.1.0a0->tf-nightly-2.0-preview) (2.8)\n",
      "Requirement already satisfied: chardet<3.1.0,>=3.0.2 in c:\\users\\user\\anaconda3\\lib\\site-packages (from requests<3,>=2.21.0->tb-nightly<2.2.0a0,>=2.1.0a0->tf-nightly-2.0-preview) (3.0.4)\n",
      "Requirement already satisfied: urllib3!=1.25.0,!=1.25.1,<1.26,>=1.21.1 in c:\\users\\user\\anaconda3\\lib\\site-packages (from requests<3,>=2.21.0->tb-nightly<2.2.0a0,>=2.1.0a0->tf-nightly-2.0-preview) (1.24.2)\n",
      "Requirement already satisfied: pyasn1<0.5.0,>=0.4.6 in c:\\users\\user\\anaconda3\\lib\\site-packages (from pyasn1-modules>=0.2.1->google-auth<2,>=1.6.3->tb-nightly<2.2.0a0,>=2.1.0a0->tf-nightly-2.0-preview) (0.4.7)\n",
      "Requirement already satisfied: oauthlib>=3.0.0 in c:\\users\\user\\anaconda3\\lib\\site-packages (from requests-oauthlib>=0.7.0->google-auth-oauthlib<0.5,>=0.4.1->tb-nightly<2.2.0a0,>=2.1.0a0->tf-nightly-2.0-preview) (3.1.0)\n",
      "Installing collected packages: tensorflow-estimator-2.0-preview, tb-nightly, tf-nightly-2.0-preview\n",
      "  Found existing installation: tb-nightly 1.14.0a20190603\n",
      "    Uninstalling tb-nightly-1.14.0a20190603:\n",
      "      Successfully uninstalled tb-nightly-1.14.0a20190603\n",
      "Successfully installed tb-nightly-2.1.0a20191206 tensorflow-estimator-2.0-preview-2.0.0 tf-nightly-2.0-preview-2.0.0.dev20191002\n"
     ]
    },
    {
     "name": "stderr",
     "output_type": "stream",
     "text": [
      "ERROR: tensorflow-gpu 2.0.0b1 has requirement tb-nightly<1.14.0a20190604,>=1.14.0a20190603, but you'll have tb-nightly 2.1.0a20191206 which is incompatible.\n",
      "ERROR: tb-nightly 2.1.0a20191206 has requirement grpcio>=1.24.3, but you'll have grpcio 1.16.1 which is incompatible.\n"
     ]
    }
   ],
   "source": [
    "!pip install tf-nightly-2.0-preview\n"
   ]
  },
  {
   "cell_type": "code",
   "execution_count": 2,
   "metadata": {
    "colab": {
     "base_uri": "https://localhost:8080/",
     "height": 35
    },
    "colab_type": "code",
    "id": "BOjujz601HcS",
    "outputId": "aa0651c4-b24e-4e1e-936c-e31004fa751b"
   },
   "outputs": [
    {
     "name": "stdout",
     "output_type": "stream",
     "text": [
      "2.0.0-dev20191002\n"
     ]
    }
   ],
   "source": [
    "import tensorflow as tf\n",
    "import numpy as np\n",
    "import matplotlib.pyplot as plt\n",
    "print(tf.__version__)"
   ]
  },
  {
   "cell_type": "code",
   "execution_count": 3,
   "metadata": {
    "colab": {},
    "colab_type": "code",
    "id": "Zswl7jRtGzkk"
   },
   "outputs": [],
   "source": [
    "def plot_series(time, series, format=\"-\", start=0, end=None):\n",
    "    plt.plot(time[start:end], series[start:end], format)\n",
    "    plt.xlabel(\"Time\")\n",
    "    plt.ylabel(\"Value\")\n",
    "    plt.grid(True)\n",
    "\n",
    "def trend(time, slope=0):\n",
    "    return slope * time\n",
    "\n",
    "def seasonal_pattern(season_time):\n",
    "    \"\"\"Just an arbitrary pattern, you can change it if you wish\"\"\"\n",
    "    return np.where(season_time < 0.4,\n",
    "                    np.cos(season_time * 2 * np.pi),\n",
    "                    1 / np.exp(3 * season_time))\n",
    "\n",
    "def seasonality(time, period, amplitude=1, phase=0):\n",
    "    \"\"\"Repeats the same pattern at each period\"\"\"\n",
    "    season_time = ((time + phase) % period) / period\n",
    "    return amplitude * seasonal_pattern(season_time)\n",
    "\n",
    "def noise(time, noise_level=1, seed=None):\n",
    "    rnd = np.random.RandomState(seed)\n",
    "    return rnd.randn(len(time)) * noise_level\n",
    "\n",
    "time = np.arange(4 * 365 + 1, dtype=\"float32\")\n",
    "baseline = 10\n",
    "series = trend(time, 0.1)  \n",
    "baseline = 10\n",
    "amplitude = 40\n",
    "slope = 0.05\n",
    "noise_level = 5\n",
    "\n",
    "# Create the series\n",
    "series = baseline + trend(time, slope) + seasonality(time, period=365, amplitude=amplitude)\n",
    "# Update with noise\n",
    "series += noise(time, noise_level, seed=42)\n",
    "\n",
    "split_time = 1000\n",
    "time_train = time[:split_time]\n",
    "x_train = series[:split_time]\n",
    "time_valid = time[split_time:]\n",
    "x_valid = series[split_time:]\n",
    "\n",
    "window_size = 20\n",
    "batch_size = 32\n",
    "shuffle_buffer_size = 1000"
   ]
  },
  {
   "cell_type": "code",
   "execution_count": 4,
   "metadata": {
    "colab": {},
    "colab_type": "code",
    "id": "4sTTIOCbyShY"
   },
   "outputs": [],
   "source": [
    "def windowed_dataset(series, window_size, batch_size, shuffle_buffer):\n",
    "    dataset = tf.data.Dataset.from_tensor_slices(series)\n",
    "    dataset = dataset.window(window_size + 1, shift=1, drop_remainder=True)\n",
    "    dataset = dataset.flat_map(lambda window: window.batch(window_size + 1))\n",
    "    dataset = dataset.shuffle(shuffle_buffer).map(lambda window: (window[:-1], window[-1]))\n",
    "    dataset = dataset.batch(batch_size).prefetch(1)\n",
    "    return dataset"
   ]
  },
  {
   "cell_type": "code",
   "execution_count": 5,
   "metadata": {
    "colab": {
     "base_uri": "https://localhost:8080/",
     "height": 1000
    },
    "colab_type": "code",
    "id": "A1Hl39rklkLm",
    "outputId": "75cbaf63-f635-4dd1-96fd-b4e1d6fd94bb"
   },
   "outputs": [
    {
     "name": "stdout",
     "output_type": "stream",
     "text": [
      "Epoch 1/100\n",
      "31/31 [==============================] - 5s 147ms/step - loss: 21.4949 - mae: 22.0115\n",
      "Epoch 2/100\n",
      "31/31 [==============================] - 1s 24ms/step - loss: 21.1128 - mae: 21.6440\n",
      "Epoch 3/100\n",
      "31/31 [==============================] - 0s 13ms/step - loss: 20.7468 - mae: 21.2278\n",
      "Epoch 4/100\n",
      "31/31 [==============================] - 0s 13ms/step - loss: 20.3564 - mae: 20.7739\n",
      "Epoch 5/100\n",
      "31/31 [==============================] - 0s 14ms/step - loss: 19.7907 - mae: 20.2843\n",
      "Epoch 6/100\n",
      "31/31 [==============================] - 0s 13ms/step - loss: 19.1428 - mae: 19.6776\n",
      "Epoch 7/100\n",
      "31/31 [==============================] - 0s 13ms/step - loss: 18.2205 - mae: 18.7308\n",
      "Epoch 8/100\n",
      "31/31 [==============================] - 0s 14ms/step - loss: 17.5280 - mae: 17.9757\n",
      "Epoch 9/100\n",
      "31/31 [==============================] - 0s 14ms/step - loss: 17.1315 - mae: 17.6581\n",
      "Epoch 10/100\n",
      "31/31 [==============================] - 0s 14ms/step - loss: 16.8294 - mae: 17.3457\n",
      "Epoch 11/100\n",
      "31/31 [==============================] - 0s 13ms/step - loss: 16.5175 - mae: 17.0459\n",
      "Epoch 12/100\n",
      "31/31 [==============================] - 0s 13ms/step - loss: 16.2835 - mae: 16.7529\n",
      "Epoch 13/100\n",
      "31/31 [==============================] - 0s 14ms/step - loss: 15.9576 - mae: 16.4573\n",
      "Epoch 14/100\n",
      "31/31 [==============================] - 0s 14ms/step - loss: 15.6444 - mae: 16.1587\n",
      "Epoch 15/100\n",
      "31/31 [==============================] - 0s 13ms/step - loss: 15.3548 - mae: 15.8571\n",
      "Epoch 16/100\n",
      "31/31 [==============================] - 0s 13ms/step - loss: 15.0615 - mae: 15.5765\n",
      "Epoch 17/100\n",
      "31/31 [==============================] - 0s 13ms/step - loss: 14.8060 - mae: 15.2950\n",
      "Epoch 18/100\n",
      "31/31 [==============================] - 0s 13ms/step - loss: 14.5474 - mae: 15.0164\n",
      "Epoch 19/100\n",
      "31/31 [==============================] - 0s 13ms/step - loss: 14.2308 - mae: 14.7612\n",
      "Epoch 20/100\n",
      "31/31 [==============================] - 0s 14ms/step - loss: 14.0179 - mae: 14.5354\n",
      "Epoch 21/100\n",
      "31/31 [==============================] - 0s 13ms/step - loss: 13.8130 - mae: 14.3081\n",
      "Epoch 22/100\n",
      "31/31 [==============================] - 0s 13ms/step - loss: 13.5935 - mae: 14.1062\n",
      "Epoch 23/100\n",
      "31/31 [==============================] - 0s 13ms/step - loss: 13.3985 - mae: 13.8858\n",
      "Epoch 24/100\n",
      "31/31 [==============================] - 0s 13ms/step - loss: 13.2187 - mae: 13.7037\n",
      "Epoch 25/100\n",
      "31/31 [==============================] - 0s 13ms/step - loss: 12.9267 - mae: 13.4526\n",
      "Epoch 26/100\n",
      "31/31 [==============================] - 0s 14ms/step - loss: 12.7290 - mae: 13.2327\n",
      "Epoch 27/100\n",
      "31/31 [==============================] - 0s 14ms/step - loss: 12.4543 - mae: 12.9716\n",
      "Epoch 28/100\n",
      "31/31 [==============================] - 0s 15ms/step - loss: 12.2231 - mae: 12.7095\n",
      "Epoch 29/100\n",
      "31/31 [==============================] - 0s 14ms/step - loss: 12.3309 - mae: 12.8460\n",
      "Epoch 30/100\n",
      "31/31 [==============================] - 0s 15ms/step - loss: 11.8069 - mae: 12.3121\n",
      "Epoch 31/100\n",
      "31/31 [==============================] - 0s 15ms/step - loss: 11.3216 - mae: 11.8148\n",
      "Epoch 32/100\n",
      "31/31 [==============================] - 0s 14ms/step - loss: 11.0173 - mae: 11.4830\n",
      "Epoch 33/100\n",
      "31/31 [==============================] - 0s 14ms/step - loss: 10.6577 - mae: 11.1361\n",
      "Epoch 34/100\n",
      "31/31 [==============================] - 0s 14ms/step - loss: 10.8242 - mae: 11.3007\n",
      "Epoch 35/100\n",
      "31/31 [==============================] - 0s 13ms/step - loss: 10.9697 - mae: 11.4607\n",
      "Epoch 36/100\n",
      "31/31 [==============================] - 0s 14ms/step - loss: 10.4873 - mae: 10.9636\n",
      "Epoch 37/100\n",
      "31/31 [==============================] - 0s 14ms/step - loss: 10.0051 - mae: 10.4892\n",
      "Epoch 38/100\n",
      "31/31 [==============================] - 0s 14ms/step - loss: 9.5181 - mae: 10.0283\n",
      "Epoch 39/100\n",
      "31/31 [==============================] - 0s 13ms/step - loss: 9.0591 - mae: 9.5461\n",
      "Epoch 40/100\n",
      "31/31 [==============================] - 0s 14ms/step - loss: 8.6498 - mae: 9.1358\n",
      "Epoch 41/100\n",
      "31/31 [==============================] - 0s 13ms/step - loss: 8.2329 - mae: 8.7356\n",
      "Epoch 42/100\n",
      "31/31 [==============================] - 0s 13ms/step - loss: 7.9299 - mae: 8.4081\n",
      "Epoch 43/100\n",
      "31/31 [==============================] - 0s 13ms/step - loss: 7.6007 - mae: 8.1137\n",
      "Epoch 44/100\n",
      "31/31 [==============================] - 0s 14ms/step - loss: 7.3032 - mae: 7.8033\n",
      "Epoch 45/100\n",
      "31/31 [==============================] - 0s 13ms/step - loss: 7.0877 - mae: 7.5770\n",
      "Epoch 46/100\n",
      "31/31 [==============================] - 0s 13ms/step - loss: 6.8843 - mae: 7.3933\n",
      "Epoch 47/100\n",
      "31/31 [==============================] - 0s 14ms/step - loss: 6.6226 - mae: 7.0771\n",
      "Epoch 48/100\n",
      "31/31 [==============================] - 0s 14ms/step - loss: 6.4349 - mae: 6.9074\n",
      "Epoch 49/100\n",
      "31/31 [==============================] - 0s 14ms/step - loss: 6.3954 - mae: 6.8757\n",
      "Epoch 50/100\n",
      "31/31 [==============================] - 0s 15ms/step - loss: 6.0277 - mae: 6.5164\n",
      "Epoch 51/100\n",
      "31/31 [==============================] - 0s 14ms/step - loss: 5.8894 - mae: 6.3634\n",
      "Epoch 52/100\n",
      "31/31 [==============================] - 0s 14ms/step - loss: 5.7521 - mae: 6.2421\n",
      "Epoch 53/100\n",
      "31/31 [==============================] - 0s 14ms/step - loss: 5.6553 - mae: 6.1419\n",
      "Epoch 54/100\n",
      "31/31 [==============================] - 0s 14ms/step - loss: 5.4473 - mae: 5.9468\n",
      "Epoch 55/100\n",
      "31/31 [==============================] - 0s 13ms/step - loss: 5.4122 - mae: 5.9006\n",
      "Epoch 56/100\n",
      "31/31 [==============================] - 0s 15ms/step - loss: 5.2623 - mae: 5.7471\n",
      "Epoch 57/100\n",
      "31/31 [==============================] - 0s 14ms/step - loss: 5.3106 - mae: 5.7881\n",
      "Epoch 58/100\n",
      "31/31 [==============================] - 0s 14ms/step - loss: 5.1929 - mae: 5.6591\n",
      "Epoch 59/100\n",
      "31/31 [==============================] - 0s 14ms/step - loss: 5.2541 - mae: 5.7545\n",
      "Epoch 60/100\n",
      "31/31 [==============================] - 0s 14ms/step - loss: 5.1063 - mae: 5.5567\n",
      "Epoch 61/100\n",
      "31/31 [==============================] - 0s 13ms/step - loss: 4.9472 - mae: 5.4250\n",
      "Epoch 62/100\n",
      "31/31 [==============================] - 0s 14ms/step - loss: 5.0917 - mae: 5.5808\n",
      "Epoch 63/100\n",
      "31/31 [==============================] - 0s 14ms/step - loss: 5.1680 - mae: 5.6629\n",
      "Epoch 64/100\n",
      "31/31 [==============================] - 0s 15ms/step - loss: 5.0575 - mae: 5.5312\n",
      "Epoch 65/100\n",
      "31/31 [==============================] - 0s 15ms/step - loss: 4.9005 - mae: 5.3900\n",
      "Epoch 66/100\n",
      "31/31 [==============================] - 0s 14ms/step - loss: 5.2746 - mae: 5.7638\n",
      "Epoch 67/100\n",
      "31/31 [==============================] - 0s 14ms/step - loss: 5.2607 - mae: 5.7446\n",
      "Epoch 68/100\n",
      "31/31 [==============================] - 0s 16ms/step - loss: 5.2220 - mae: 5.7234\n",
      "Epoch 69/100\n",
      "31/31 [==============================] - 0s 15ms/step - loss: 5.3456 - mae: 5.8346\n",
      "Epoch 70/100\n",
      "31/31 [==============================] - 0s 14ms/step - loss: 6.1695 - mae: 6.6385\n",
      "Epoch 71/100\n",
      "31/31 [==============================] - 0s 13ms/step - loss: 4.9525 - mae: 5.4136\n",
      "Epoch 72/100\n",
      "31/31 [==============================] - 0s 14ms/step - loss: 5.5659 - mae: 6.0634: 0s - loss: 5.4966 - mae: 5.97\n",
      "Epoch 73/100\n",
      "31/31 [==============================] - 0s 14ms/step - loss: 5.3434 - mae: 5.8207\n",
      "Epoch 74/100\n",
      "31/31 [==============================] - 0s 14ms/step - loss: 6.7266 - mae: 7.1939\n",
      "Epoch 75/100\n",
      "31/31 [==============================] - 0s 14ms/step - loss: 5.6105 - mae: 6.0943\n",
      "Epoch 76/100\n",
      "31/31 [==============================] - 0s 14ms/step - loss: 5.2503 - mae: 5.7409\n",
      "Epoch 77/100\n",
      "31/31 [==============================] - 0s 14ms/step - loss: 5.2360 - mae: 5.6981\n",
      "Epoch 78/100\n",
      "31/31 [==============================] - 0s 14ms/step - loss: 5.8180 - mae: 6.2994\n",
      "Epoch 79/100\n",
      "31/31 [==============================] - 0s 13ms/step - loss: 5.2376 - mae: 5.6928\n",
      "Epoch 80/100\n",
      "31/31 [==============================] - 0s 14ms/step - loss: 6.9907 - mae: 7.5020\n",
      "Epoch 81/100\n",
      "31/31 [==============================] - 0s 14ms/step - loss: 6.4495 - mae: 6.9725\n",
      "Epoch 82/100\n",
      "31/31 [==============================] - 0s 14ms/step - loss: 5.5451 - mae: 5.9759\n",
      "Epoch 83/100\n",
      "31/31 [==============================] - 0s 14ms/step - loss: 6.4079 - mae: 6.8805\n",
      "Epoch 84/100\n",
      "31/31 [==============================] - 0s 14ms/step - loss: 6.2815 - mae: 6.7472\n",
      "Epoch 85/100\n"
     ]
    },
    {
     "name": "stdout",
     "output_type": "stream",
     "text": [
      "31/31 [==============================] - 0s 14ms/step - loss: 6.4250 - mae: 6.9087\n",
      "Epoch 86/100\n",
      "31/31 [==============================] - 0s 14ms/step - loss: 7.7313 - mae: 8.2106\n",
      "Epoch 87/100\n",
      "31/31 [==============================] - 0s 14ms/step - loss: 7.7794 - mae: 8.2875\n",
      "Epoch 88/100\n",
      "31/31 [==============================] - 0s 14ms/step - loss: 6.9433 - mae: 7.4587\n",
      "Epoch 89/100\n",
      "31/31 [==============================] - 0s 14ms/step - loss: 8.9990 - mae: 9.4783\n",
      "Epoch 90/100\n",
      "31/31 [==============================] - 0s 14ms/step - loss: 7.8253 - mae: 8.3176\n",
      "Epoch 91/100\n",
      "31/31 [==============================] - 0s 14ms/step - loss: 6.9390 - mae: 7.4267: 0s - loss: 7.1654 - mae: 7.65\n",
      "Epoch 92/100\n",
      "31/31 [==============================] - 0s 14ms/step - loss: 7.5558 - mae: 8.0042\n",
      "Epoch 93/100\n",
      "31/31 [==============================] - 0s 14ms/step - loss: 8.7530 - mae: 9.2103\n",
      "Epoch 94/100\n",
      "31/31 [==============================] - 0s 15ms/step - loss: 10.5962 - mae: 11.0800\n",
      "Epoch 95/100\n",
      "31/31 [==============================] - 0s 15ms/step - loss: 9.2224 - mae: 9.7141\n",
      "Epoch 96/100\n",
      "31/31 [==============================] - 0s 15ms/step - loss: 7.1210 - mae: 7.6041\n",
      "Epoch 97/100\n",
      "31/31 [==============================] - 0s 14ms/step - loss: 7.4434 - mae: 7.9122\n",
      "Epoch 98/100\n",
      "31/31 [==============================] - 0s 14ms/step - loss: 8.1156 - mae: 8.5827\n",
      "Epoch 99/100\n",
      "31/31 [==============================] - 0s 15ms/step - loss: 10.6758 - mae: 11.2304\n",
      "Epoch 100/100\n",
      "31/31 [==============================] - 0s 15ms/step - loss: 11.5868 - mae: 12.0949\n"
     ]
    }
   ],
   "source": [
    "tf.keras.backend.clear_session()\n",
    "tf.random.set_seed(51)\n",
    "np.random.seed(51)\n",
    "\n",
    "tf.keras.backend.clear_session()\n",
    "dataset = windowed_dataset(x_train, window_size, batch_size, shuffle_buffer_size)\n",
    "\n",
    "model = tf.keras.models.Sequential([\n",
    "  tf.keras.layers.Lambda(lambda x: tf.expand_dims(x, axis=-1),\n",
    "                      input_shape=[None]),\n",
    "    tf.keras.layers.Bidirectional(tf.keras.layers.LSTM(32, return_sequences=True)),\n",
    "  tf.keras.layers.Bidirectional(tf.keras.layers.LSTM(32)),\n",
    "  tf.keras.layers.Dense(1),\n",
    "  tf.keras.layers.Lambda(lambda x: x * 100.0)\n",
    "])\n",
    "\n",
    "lr_schedule = tf.keras.callbacks.LearningRateScheduler(\n",
    "    lambda epoch: 1e-8 * 10**(epoch / 20))\n",
    "optimizer = tf.keras.optimizers.SGD(lr=1e-8, momentum=0.9)\n",
    "model.compile(loss=tf.keras.losses.Huber(),\n",
    "              optimizer=optimizer,\n",
    "              metrics=[\"mae\"])\n",
    "history = model.fit(dataset, epochs=100, callbacks=[lr_schedule])"
   ]
  },
  {
   "cell_type": "code",
   "execution_count": 6,
   "metadata": {
    "colab": {
     "base_uri": "https://localhost:8080/",
     "height": 291
    },
    "colab_type": "code",
    "id": "AkBsrsXMzoWR",
    "outputId": "99a3f57b-9145-4802-8256-401a54b238e7"
   },
   "outputs": [
    {
     "data": {
      "text/plain": [
       "[1e-08, 0.0001, 0, 30]"
      ]
     },
     "execution_count": 6,
     "metadata": {},
     "output_type": "execute_result"
    },
    {
     "data": {
      "image/png": "[encoded data removed]",
      "text/plain": [
       "<Figure size 432x288 with 1 Axes>"
      ]
     },
     "metadata": {
      "needs_background": "light"
     },
     "output_type": "display_data"
    }
   ],
   "source": [
    "plt.semilogx(history.history[\"lr\"], history.history[\"loss\"])\n",
    "plt.axis([1e-8, 1e-4, 0, 30])"
   ]
  },
  {
   "cell_type": "code",
   "execution_count": 7,
   "metadata": {
    "colab": {},
    "colab_type": "code",
    "id": "4uh-97bpLZCA"
   },
   "outputs": [],
   "source": [
    "tf.keras.backend.clear_session()\n",
    "tf.random.set_seed(51)\n",
    "np.random.seed(51)\n",
    "\n",
    "tf.keras.backend.clear_session()\n",
    "dataset = windowed_dataset(x_train, window_size, batch_size, shuffle_buffer_size)\n",
    "\n",
    "model = tf.keras.models.Sequential([\n",
    "  tf.keras.layers.Lambda(lambda x: tf.expand_dims(x, axis=-1),\n",
    "                      input_shape=[None]),\n",
    "   tf.keras.layers.Bidirectional(tf.keras.layers.LSTM(32, return_sequences=True)),\n",
    "  tf.keras.layers.Bidirectional(tf.keras.layers.LSTM(32)),\n",
    "  tf.keras.layers.Dense(1),\n",
    "  tf.keras.layers.Lambda(lambda x: x * 100.0)\n",
    "])\n",
    "\n",
    "\n",
    "model.compile(loss=\"mse\", optimizer=tf.keras.optimizers.SGD(lr=1e-5, momentum=0.9),metrics=[\"mae\"])\n",
    "history = model.fit(dataset,epochs=500,verbose=0)"
   ]
  },
  {
   "cell_type": "code",
   "execution_count": 8,
   "metadata": {
    "colab": {
     "base_uri": "https://localhost:8080/",
     "height": 393
    },
    "colab_type": "code",
    "id": "icGDaND7z0ne",
    "outputId": "58b69d1a-82d2-457b-9342-42ceb24b35da"
   },
   "outputs": [
    {
     "data": {
      "image/png": "[encoded data removed]",
      "text/plain": [
       "<Figure size 720x432 with 1 Axes>"
      ]
     },
     "metadata": {
      "needs_background": "light"
     },
     "output_type": "display_data"
    }
   ],
   "source": [
    "forecast = []\n",
    "results = []\n",
    "for time in range(len(series) - window_size):\n",
    "    forecast.append(model.predict(series[time:time + window_size][np.newaxis]))\n",
    "\n",
    "forecast = forecast[split_time-window_size:]\n",
    "results = np.array(forecast)[:, 0, 0]\n",
    "\n",
    "\n",
    "plt.figure(figsize=(10, 6))\n",
    "\n",
    "plot_series(time_valid, x_valid)\n",
    "plot_series(time_valid, results)"
   ]
  },
  {
   "cell_type": "code",
   "execution_count": 9,
   "metadata": {
    "colab": {
     "base_uri": "https://localhost:8080/",
     "height": 35
    },
    "colab_type": "code",
    "id": "KfPeqI7rz4LD",
    "outputId": "816335be-fd2a-428f-98d6-05983b84d9b5"
   },
   "outputs": [
    {
     "data": {
      "text/plain": [
       "6.6142917"
      ]
     },
     "execution_count": 9,
     "metadata": {},
     "output_type": "execute_result"
    }
   ],
   "source": [
    "tf.keras.metrics.mean_absolute_error(x_valid, results).numpy()"
   ]
  },
  {
   "cell_type": "code",
   "execution_count": 10,
   "metadata": {
    "colab": {
     "base_uri": "https://localhost:8080/",
     "height": 235
    },
    "colab_type": "code",
    "id": "JUsdZB_tzDLe",
    "outputId": "964c47d9-7eec-42cd-905f-c45c2fd31d9e"
   },
   "outputs": [
    {
     "data": {
      "text/plain": [
       "<Figure size 432x288 with 0 Axes>"
      ]
     },
     "execution_count": 10,
     "metadata": {},
     "output_type": "execute_result"
    },
    {
     "data": {
      "image/png": "[encoded data removed]",
      "text/plain": [
       "<Figure size 432x288 with 1 Axes>"
      ]
     },
     "metadata": {
      "needs_background": "light"
     },
     "output_type": "display_data"
    },
    {
     "data": {
      "image/png": "[encoded data removed]",
      "text/plain": [
       "<Figure size 432x288 with 1 Axes>"
      ]
     },
     "metadata": {
      "needs_background": "light"
     },
     "output_type": "display_data"
    },
    {
     "data": {
      "text/plain": [
       "<Figure size 432x288 with 0 Axes>"
      ]
     },
     "metadata": {},
     "output_type": "display_data"
    }
   ],
   "source": [
    "import matplotlib.image  as mpimg\n",
    "import matplotlib.pyplot as plt\n",
    "\n",
    "#-----------------------------------------------------------\n",
    "# Retrieve a list of list results on training and test data\n",
    "# sets for each training epoch\n",
    "#-----------------------------------------------------------\n",
    "mae=history.history['mae']\n",
    "loss=history.history['loss']\n",
    "\n",
    "epochs=range(len(loss)) # Get number of epochs\n",
    "\n",
    "#------------------------------------------------\n",
    "# Plot MAE and Loss\n",
    "#------------------------------------------------\n",
    "plt.plot(epochs, mae, 'r')\n",
    "plt.plot(epochs, loss, 'b')\n",
    "plt.title('MAE and Loss')\n",
    "plt.xlabel(\"Epochs\")\n",
    "plt.ylabel(\"Accuracy\")\n",
    "plt.legend([\"MAE\", \"Loss\"])\n",
    "\n",
    "plt.figure()\n",
    "\n",
    "epochs_zoom = epochs[200:]\n",
    "mae_zoom = mae[200:]\n",
    "loss_zoom = loss[200:]\n",
    "\n",
    "#------------------------------------------------\n",
    "# Plot Zoomed MAE and Loss\n",
    "#------------------------------------------------\n",
    "plt.plot(epochs_zoom, mae_zoom, 'r')\n",
    "plt.plot(epochs_zoom, loss_zoom, 'b')\n",
    "plt.title('MAE and Loss')\n",
    "plt.xlabel(\"Epochs\")\n",
    "plt.ylabel(\"Accuracy\")\n",
    "plt.legend([\"MAE\", \"Loss\"])\n",
    "\n",
    "plt.figure()"
   ]
  },
  {
   "cell_type": "code",
   "execution_count": 11,
   "metadata": {
    "colab": {},
    "colab_type": "code",
    "id": "3CGaYFxXNEAK"
   },
   "outputs": [
    {
     "data": {
      "text/plain": [
       "<tensorflow.python.keras.callbacks.History at 0x1a5f9f2ae80>"
      ]
     },
     "execution_count": 11,
     "metadata": {},
     "output_type": "execute_result"
    }
   ],
   "source": [
    "tf.keras.backend.clear_session()\n",
    "dataset = windowed_dataset(x_train, window_size, batch_size, shuffle_buffer_size)\n",
    "\n",
    "model = tf.keras.models.Sequential([\n",
    "  tf.keras.layers.Lambda(lambda x: tf.expand_dims(x, axis=-1),\n",
    "                      input_shape=[None]),\n",
    "  tf.keras.layers.Bidirectional(tf.keras.layers.LSTM(32, return_sequences=True)),\n",
    "  tf.keras.layers.Bidirectional(tf.keras.layers.LSTM(32)),\n",
    "  tf.keras.layers.Dense(1),\n",
    "  tf.keras.layers.Lambda(lambda x: x * 100.0)\n",
    "])\n",
    "\n",
    "\n",
    "model.compile(loss=\"mse\", optimizer=tf.keras.optimizers.SGD(lr=1e-6, momentum=0.9))\n",
    "model.fit(dataset,epochs=100, verbose=0)"
   ]
  },
  {
   "cell_type": "code",
   "execution_count": 12,
   "metadata": {
    "colab": {},
    "colab_type": "code",
    "id": "FJ3R8ysauz9e"
   },
   "outputs": [
    {
     "name": "stdout",
     "output_type": "stream",
     "text": [
      "Epoch 1/100\n",
      "31/31 [==============================] - 6s 209ms/step - loss: 637.0233\n",
      "Epoch 2/100\n",
      "31/31 [==============================] - 1s 20ms/step - loss: 120.7466\n",
      "Epoch 3/100\n",
      "31/31 [==============================] - 1s 21ms/step - loss: 92.0421\n",
      "Epoch 4/100\n",
      "31/31 [==============================] - 1s 20ms/step - loss: 88.8774\n",
      "Epoch 5/100\n",
      "31/31 [==============================] - 1s 20ms/step - loss: 82.8891\n",
      "Epoch 6/100\n",
      "31/31 [==============================] - 1s 20ms/step - loss: 75.1178\n",
      "Epoch 7/100\n",
      "31/31 [==============================] - 1s 20ms/step - loss: 68.2411\n",
      "Epoch 8/100\n",
      "31/31 [==============================] - 1s 21ms/step - loss: 64.0717\n",
      "Epoch 9/100\n",
      "31/31 [==============================] - 1s 21ms/step - loss: 66.8051\n",
      "Epoch 10/100\n",
      "31/31 [==============================] - 1s 20ms/step - loss: 65.6131\n",
      "Epoch 11/100\n",
      "31/31 [==============================] - 1s 22ms/step - loss: 62.4817\n",
      "Epoch 12/100\n",
      "31/31 [==============================] - 1s 20ms/step - loss: 58.0539\n",
      "Epoch 13/100\n",
      "31/31 [==============================] - 1s 22ms/step - loss: 56.7337\n",
      "Epoch 14/100\n",
      "31/31 [==============================] - 1s 21ms/step - loss: 63.3188 0s - loss: 64.95\n",
      "Epoch 15/100\n",
      "31/31 [==============================] - 1s 20ms/step - loss: 53.8105\n",
      "Epoch 16/100\n",
      "31/31 [==============================] - 1s 21ms/step - loss: 52.0592\n",
      "Epoch 17/100\n",
      "31/31 [==============================] - 1s 21ms/step - loss: 61.3058\n",
      "Epoch 18/100\n",
      "31/31 [==============================] - 1s 22ms/step - loss: 58.2703\n",
      "Epoch 19/100\n",
      "31/31 [==============================] - 1s 23ms/step - loss: 57.2809\n",
      "Epoch 20/100\n",
      "31/31 [==============================] - 1s 22ms/step - loss: 58.6535\n",
      "Epoch 21/100\n",
      "31/31 [==============================] - 1s 21ms/step - loss: 54.4717\n",
      "Epoch 22/100\n",
      "31/31 [==============================] - 1s 20ms/step - loss: 48.7803\n",
      "Epoch 23/100\n",
      "31/31 [==============================] - 1s 22ms/step - loss: 55.6806\n",
      "Epoch 24/100\n",
      "31/31 [==============================] - 1s 20ms/step - loss: 50.8445\n",
      "Epoch 25/100\n",
      "31/31 [==============================] - 1s 21ms/step - loss: 57.6164\n",
      "Epoch 26/100\n",
      "31/31 [==============================] - 1s 20ms/step - loss: 48.5368\n",
      "Epoch 27/100\n",
      "31/31 [==============================] - 1s 21ms/step - loss: 54.0821\n",
      "Epoch 28/100\n",
      "31/31 [==============================] - 1s 21ms/step - loss: 54.7942\n",
      "Epoch 29/100\n",
      "31/31 [==============================] - 1s 21ms/step - loss: 54.4730\n",
      "Epoch 30/100\n",
      "31/31 [==============================] - 1s 20ms/step - loss: 47.6561\n",
      "Epoch 31/100\n",
      "31/31 [==============================] - 1s 20ms/step - loss: 49.3290\n",
      "Epoch 32/100\n",
      "31/31 [==============================] - 1s 21ms/step - loss: 53.4109\n",
      "Epoch 33/100\n",
      "31/31 [==============================] - 1s 20ms/step - loss: 56.7651\n",
      "Epoch 34/100\n",
      "31/31 [==============================] - 1s 21ms/step - loss: 48.0158\n",
      "Epoch 35/100\n",
      "31/31 [==============================] - 1s 20ms/step - loss: 49.5926\n",
      "Epoch 36/100\n",
      "31/31 [==============================] - 1s 21ms/step - loss: 47.7899\n",
      "Epoch 37/100\n",
      "31/31 [==============================] - 1s 20ms/step - loss: 47.4737\n",
      "Epoch 38/100\n",
      "31/31 [==============================] - ETA: 0s - loss: 53.13 - 1s 20ms/step - loss: 52.5842\n",
      "Epoch 39/100\n",
      "31/31 [==============================] - 1s 21ms/step - loss: 47.1467\n",
      "Epoch 40/100\n",
      "31/31 [==============================] - 1s 20ms/step - loss: 47.2574\n",
      "Epoch 41/100\n",
      "31/31 [==============================] - 1s 21ms/step - loss: 48.6427\n",
      "Epoch 42/100\n",
      "31/31 [==============================] - 1s 22ms/step - loss: 45.7209\n",
      "Epoch 43/100\n",
      "31/31 [==============================] - 1s 21ms/step - loss: 49.3340\n",
      "Epoch 44/100\n",
      "31/31 [==============================] - 1s 24ms/step - loss: 48.8234\n",
      "Epoch 45/100\n",
      "31/31 [==============================] - 1s 21ms/step - loss: 51.0316\n",
      "Epoch 46/100\n",
      "31/31 [==============================] - 1s 21ms/step - loss: 48.2925\n",
      "Epoch 47/100\n",
      "31/31 [==============================] - 1s 20ms/step - loss: 51.5020\n",
      "Epoch 48/100\n",
      "31/31 [==============================] - 1s 20ms/step - loss: 50.1960\n",
      "Epoch 49/100\n",
      "31/31 [==============================] - 1s 21ms/step - loss: 45.3440\n",
      "Epoch 50/100\n",
      "31/31 [==============================] - 1s 20ms/step - loss: 44.7303\n",
      "Epoch 51/100\n",
      "31/31 [==============================] - 1s 21ms/step - loss: 45.7743\n",
      "Epoch 52/100\n",
      "31/31 [==============================] - 1s 20ms/step - loss: 48.9895 0s - l\n",
      "Epoch 53/100\n",
      "31/31 [==============================] - 1s 20ms/step - loss: 50.3004\n",
      "Epoch 54/100\n",
      "31/31 [==============================] - 1s 21ms/step - loss: 50.0641\n",
      "Epoch 55/100\n",
      "31/31 [==============================] - 1s 20ms/step - loss: 44.2844\n",
      "Epoch 56/100\n",
      "31/31 [==============================] - 1s 21ms/step - loss: 47.2650\n",
      "Epoch 57/100\n",
      "31/31 [==============================] - 1s 20ms/step - loss: 46.3613\n",
      "Epoch 58/100\n",
      "31/31 [==============================] - 1s 20ms/step - loss: 45.9513\n",
      "Epoch 59/100\n",
      "31/31 [==============================] - 1s 21ms/step - loss: 44.9608\n",
      "Epoch 60/100\n",
      "31/31 [==============================] - 1s 20ms/step - loss: 45.1587\n",
      "Epoch 61/100\n",
      "31/31 [==============================] - 1s 21ms/step - loss: 46.1001\n",
      "Epoch 62/100\n",
      "31/31 [==============================] - 1s 20ms/step - loss: 46.4803\n",
      "Epoch 63/100\n",
      "31/31 [==============================] - 1s 21ms/step - loss: 46.5752\n",
      "Epoch 64/100\n",
      "31/31 [==============================] - 1s 21ms/step - loss: 45.0881\n",
      "Epoch 65/100\n",
      "31/31 [==============================] - 1s 20ms/step - loss: 44.4727\n",
      "Epoch 66/100\n",
      "31/31 [==============================] - 1s 21ms/step - loss: 43.8191 0s - l\n",
      "Epoch 67/100\n",
      "31/31 [==============================] - 1s 22ms/step - loss: 43.3888\n",
      "Epoch 68/100\n",
      "31/31 [==============================] - 1s 21ms/step - loss: 44.2794\n",
      "Epoch 69/100\n",
      "31/31 [==============================] - 1s 23ms/step - loss: 48.7658\n",
      "Epoch 70/100\n",
      "31/31 [==============================] - ETA: 0s - loss: 49.50 - 1s 21ms/step - loss: 49.2290\n",
      "Epoch 71/100\n",
      "31/31 [==============================] - 1s 21ms/step - loss: 47.9089\n",
      "Epoch 72/100\n",
      "31/31 [==============================] - 1s 21ms/step - loss: 43.4049\n",
      "Epoch 73/100\n",
      "31/31 [==============================] - 1s 21ms/step - loss: 46.7734\n",
      "Epoch 74/100\n",
      "31/31 [==============================] - 1s 21ms/step - loss: 45.2176\n",
      "Epoch 75/100\n",
      "31/31 [==============================] - 1s 20ms/step - loss: 43.4735\n",
      "Epoch 76/100\n",
      "31/31 [==============================] - 1s 21ms/step - loss: 46.5729\n",
      "Epoch 77/100\n",
      "31/31 [==============================] - 1s 21ms/step - loss: 46.2850\n",
      "Epoch 78/100\n",
      "31/31 [==============================] - 1s 20ms/step - loss: 44.9241\n",
      "Epoch 79/100\n",
      "31/31 [==============================] - 1s 21ms/step - loss: 44.4036\n",
      "Epoch 80/100\n",
      "31/31 [==============================] - 1s 20ms/step - loss: 44.3938\n",
      "Epoch 81/100\n",
      "31/31 [==============================] - 1s 21ms/step - loss: 50.9530\n",
      "Epoch 82/100\n",
      "31/31 [==============================] - 1s 20ms/step - loss: 52.1954\n",
      "Epoch 83/100\n",
      "31/31 [==============================] - 1s 20ms/step - loss: 45.2116\n",
      "Epoch 84/100\n",
      "31/31 [==============================] - 1s 21ms/step - loss: 45.1946\n",
      "Epoch 85/100\n",
      "31/31 [==============================] - 1s 20ms/step - loss: 46.0932\n",
      "Epoch 86/100\n",
      "31/31 [==============================] - 1s 21ms/step - loss: 44.4736\n",
      "Epoch 87/100\n",
      "31/31 [==============================] - 1s 20ms/step - loss: 43.7276\n",
      "Epoch 88/100\n",
      "31/31 [==============================] - 1s 21ms/step - loss: 51.4228\n",
      "Epoch 89/100\n",
      "31/31 [==============================] - 1s 21ms/step - loss: 45.9021\n",
      "Epoch 90/100\n",
      "31/31 [==============================] - 1s 20ms/step - loss: 48.7337\n",
      "Epoch 91/100\n",
      "31/31 [==============================] - 1s 21ms/step - loss: 44.8213\n",
      "Epoch 92/100\n",
      "31/31 [==============================] - 1s 22ms/step - loss: 53.9012\n",
      "Epoch 93/100\n",
      "31/31 [==============================] - 1s 22ms/step - loss: 44.0955\n",
      "Epoch 94/100\n",
      "31/31 [==============================] - 1s 23ms/step - loss: 44.1300\n",
      "Epoch 95/100\n",
      "31/31 [==============================] - 1s 22ms/step - loss: 45.7455\n",
      "Epoch 96/100\n",
      "31/31 [==============================] - 1s 22ms/step - loss: 44.4551\n",
      "Epoch 97/100\n",
      "31/31 [==============================] - 1s 21ms/step - loss: 44.4199\n",
      "Epoch 98/100\n"
     ]
    },
    {
     "name": "stdout",
     "output_type": "stream",
     "text": [
      "31/31 [==============================] - 1s 20ms/step - loss: 43.7962\n",
      "Epoch 99/100\n",
      "31/31 [==============================] - 1s 21ms/step - loss: 44.4305\n",
      "Epoch 100/100\n",
      "31/31 [==============================] - 1s 20ms/step - loss: 45.0547\n"
     ]
    },
    {
     "data": {
      "text/plain": [
       "<tensorflow.python.keras.callbacks.History at 0x1a585b1b940>"
      ]
     },
     "execution_count": 12,
     "metadata": {},
     "output_type": "execute_result"
    }
   ],
   "source": [
    "tf.keras.backend.clear_session()\n",
    "dataset = windowed_dataset(x_train, window_size, batch_size, shuffle_buffer_size)\n",
    "\n",
    "model = tf.keras.models.Sequential([\n",
    "  tf.keras.layers.Lambda(lambda x: tf.expand_dims(x, axis=-1),\n",
    "                      input_shape=[None]),\n",
    "  tf.keras.layers.Bidirectional(tf.keras.layers.LSTM(32, return_sequences=True)),\n",
    "  tf.keras.layers.Bidirectional(tf.keras.layers.LSTM(32, return_sequences=True)),\n",
    "  tf.keras.layers.Bidirectional(tf.keras.layers.LSTM(32)),\n",
    "  tf.keras.layers.Dense(1),\n",
    "  tf.keras.layers.Lambda(lambda x: x * 100.0)\n",
    "])\n",
    "\n",
    "\n",
    "model.compile(loss=\"mse\", optimizer=tf.keras.optimizers.SGD(lr=1e-6, momentum=0.9))\n",
    "model.fit(dataset,epochs=100)"
   ]
  },
  {
   "cell_type": "code",
   "execution_count": null,
   "metadata": {},
   "outputs": [],
   "source": []
  }
 ],
 "metadata": {
  "colab": {
   "collapsed_sections": [],
   "name": "S+P Week 3 Lesson 4 - LSTM.ipynb",
   "provenance": []
  },
  "kernelspec": {
   "display_name": "Python 3",
   "language": "python",
   "name": "python3"
  },
  "language_info": {
   "codemirror_mode": {
    "name": "ipython",
    "version": 3
   },
   "file_extension": ".py",
   "mimetype": "text/x-python",
   "name": "python",
   "nbconvert_exporter": "python",
   "pygments_lexer": "ipython3",
   "version": "3.7.3"
  }
 },
 "nbformat": 4,
 "nbformat_minor": 1
}
